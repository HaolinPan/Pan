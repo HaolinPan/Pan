{
 "cells": [
  {
   "cell_type": "code",
   "execution_count": 1,
   "metadata": {},
   "outputs": [],
   "source": [
    "import pandas as pd\n",
    "from datetime import datetime,timedelta\n",
    "import requests\n",
    "import json"
   ]
  },
  {
   "cell_type": "code",
   "execution_count": 2,
   "metadata": {},
   "outputs": [],
   "source": [
    "from vnpy.trader.app.ctaStrategy import BacktestingEngine\n",
    "import pandas as pd\n",
    "\n",
    "def runBacktesting(strategyClass, settingDict,\n",
    "                   startDate, endDate, slippage, rate):\n",
    "    engine = BacktestingEngine()\n",
    "    engine.setBacktestingMode(engine.BAR_MODE)  # 设置引擎的回测模式为K线\n",
    "    engine.setDatabase('VnTrader_1Min_Db')    # 设置使用的历史数据库\n",
    "    engine.setStartDate(startDate, initHours=200)   # 设置回测用的数据起始日期\n",
    "    engine.setEndDate(endDate)     # 设置回测用的数据结束日期\n",
    "    engine.setSlippage(slippage)    # 设置滑点\n",
    "    engine.setRate(rate)             # 设置手续费万0.3\n",
    "    engine.initStrategy(strategyClass, settingDict)\n",
    "    engine.setCapital(100000)     # 设置回测本金\n",
    "    engine.runBacktesting()\n",
    "    #显示逐日回测结果\n",
    "    engine.showDailyResult()\n",
    "    #显示逐笔回测结果\n",
    "    engine.showBacktestingResult()\n",
    "    # 计算回测结果\n",
    "    df = engine.calculateDailyResult()\n",
    "    return df"
   ]
  },
  {
   "cell_type": "code",
   "execution_count": 19,
   "metadata": {},
   "outputs": [],
   "source": [
    "from vnpy.trader.vtConstant import *\n",
    "from vnpy.trader.app.ctaStrategy import CtaTemplate\n",
    "import talib as ta\n",
    "\n",
    "########################################################################\n",
    "# 策略继承CtaTemplate\n",
    "class MultiFrameMaStrategy(CtaTemplate):\n",
    "    className = 'MultiFrameMaStrategy'\n",
    "    author = 'Haolin Pan'\n",
    "    \n",
    "    # 策略参数\n",
    "    fastPeriod = 20\n",
    "    slowPeriod = 40\n",
    "    BBandPeriod = 20\n",
    "    rsiPeriod = 11\n",
    "    stopRatio = 0.04\n",
    "    lot = 1\n",
    "    \n",
    "    # 策略变量\n",
    "    maTrend = {} # 记录趋势状态，多头1，空头-1\n",
    "    transactionPrice = {} # 记录成交价格\n",
    "    bollStatus = {} # 记录boll状态，多头1，空头-1\n",
    "    rsiTrend = {} #记录rsi状态，超卖1，超买-1\n",
    "    turnOver = {} #记录反转状态，空转多1，多转空-1\n",
    "    \n",
    "    # 参数列表，保存了参数的名称\n",
    "    paramList = [\n",
    "                 'fastPeriod',\n",
    "                 'slowPeriod',\n",
    "                 'BBandPeriod',\n",
    "                 'rsiPeriod',\n",
    "                 'stopRatio'\n",
    "                ]    \n",
    "    \n",
    "    # 变量列表，保存了变量的名称\n",
    "    varList = [\n",
    "               'maTrend',\n",
    "               'transactionPrice',\n",
    "                'bollStatus',\n",
    "                'rsiTrend',\n",
    "                'turnOver'\n",
    "              ]  \n",
    "    \n",
    "    # 同步列表，保存了需要保存到数据库的变量名称\n",
    "    syncList = ['posDict', 'eveningDict']\n",
    "\n",
    "    #----------------------------------------------------------------------\n",
    "    def __init__(self, ctaEngine, setting):\n",
    "        super().__init__(ctaEngine, setting)\n",
    "    \n",
    "    #----------------------------------------------------------------------\n",
    "    def onInit(self):\n",
    "        \"\"\"初始化策略\"\"\"\n",
    "        self.writeCtaLog(u'策略初始化')\n",
    "        self.transactionPrice = {s:0 for s in self.symbolList} # 生成成交价格的字典\n",
    "        self.maTrend = {s:0 for s in self.symbolList}\n",
    "        self.rsiTrend = {s:0 for s in self.symbolList}\n",
    "        self.bollStatus = {s:0 for s in self.symbolList}\n",
    "        self.turnOver = {s:0 for s in self.symbolList}\n",
    "        self.putEvent()\n",
    "\n",
    "    #----------------------------------------------------------------------\n",
    "    def onStart(self):\n",
    "        \"\"\"启动策略\"\"\"\n",
    "        self.writeCtaLog(u'策略启动')\n",
    "        self.putEvent()\n",
    "    \n",
    "    #----------------------------------------------------------------------\n",
    "    def onStop(self):\n",
    "        \"\"\"停止策略\"\"\"\n",
    "        self.writeCtaLog(u'策略停止')\n",
    "        self.putEvent()\n",
    "        \n",
    "    #----------------------------------------------------------------------\n",
    "    def onTick(self, tick):\n",
    "        \"\"\"收到行情TICK推送\"\"\"\n",
    "        pass\n",
    "    \n",
    "    #----------------------------------------------------------------------\n",
    "    def onBar(self, bar):\n",
    "        \"\"\"收到Bar推送\"\"\"\n",
    "        self.onBarStopLoss(bar)\n",
    "\n",
    "    def onBarStopLoss(self, bar):\n",
    "        symbol = bar.vtSymbol\n",
    "        \n",
    "        # 计算止损止盈价位\n",
    "        longStop = self.transactionPrice[symbol]*(1-self.stopRatio)\n",
    "        longProfit = self.transactionPrice[symbol]*(1+3*self.stopRatio)\n",
    "        shortStop = self.transactionPrice[symbol]*(1+self.stopRatio)\n",
    "        shortProfit = self.transactionPrice[symbol]*(1-3*self.stopRatio)\n",
    "        \n",
    "        \n",
    "        # 洗价器\n",
    "        if (self.posDict[symbol+'_LONG'] > 0):\n",
    "            if (bar.close < longStop) or (self.turnOver[symbol]==-1):#达到止损价位或反转\n",
    "                print('LONG stopLoss')\n",
    "                self.cancelAll()\n",
    "                self.sell(symbol,bar.close*0.99, self.posDict[symbol+'_LONG'])\n",
    "            elif (bar.close > longProfit) and (self.turnOver[symbol]==-1):#达到止盈价位且反转\n",
    "                print('LONG takeProfit')\n",
    "                self.cancelAll()\n",
    "                self.sell(symbol,bar.close*0.99, self.posDict[symbol+'_LONG'])\n",
    "\n",
    "        elif (self.posDict[symbol+'_SHORT'] > 0):\n",
    "            if (bar.close > shortStop) or (self.turnOver[symbol]==1):#达到止损价位或反转\n",
    "                print('SHORT stopLoss')\n",
    "                self.cancelAll()\n",
    "                self.cover(symbol,bar.close*1.01, self.posDict[symbol+'_SHORT'])\n",
    "            elif (bar.close < shortProfit) and (self.turnOver[symbol]==1):#达到止盈价位且反转\n",
    "                print('SHORT takeProfit')\n",
    "                self.cancelAll()\n",
    "                self.cover(symbol,bar.close*1.01, self.posDict[symbol+'_SHORT'])\n",
    "\n",
    "    #----------------------------------------------------------------------\n",
    "    def on60MinBar(self, bar):\n",
    "        \"\"\"收到60MinBar推送\"\"\"\n",
    "        symbol = bar.vtSymbol\n",
    "        \n",
    "        am60 = self.getArrayManager(symbol, \"60m\")\n",
    "        \n",
    "        if not am60.inited:\n",
    "            return\n",
    "        \n",
    "        # 计算均线并判断趋势        \n",
    "        fastMa = ta.MA(am60.close, self.fastPeriod)\n",
    "        slowMa = ta.MA(am60.close, self.slowPeriod)\n",
    "        \n",
    "        #均线金叉\n",
    "        if fastMa[-1]>slowMa[-1] and fastMa[-2]<slowMa[-2]:\n",
    "            self.maTrend[symbol] = 1\n",
    "        #均线死叉\n",
    "        elif fastMa[-1]<slowMa[-1] and fastMa[-2]>slowMa[-2]:\n",
    "            self.maTrend[symbol] = -1\n",
    "        \n",
    "        #反转\n",
    "        if self.maTrend[symbol] == -1 and fastMa[-1]>fastMa[-3]:\n",
    "            self.turnOver[symbol]=1\n",
    "        if self.maTrend[symbol] == 1 and fastMa[-1]<fastMa[-3]:\n",
    "            self.turnOver[symbol]=-1\n",
    "\n",
    "    #----------------------------------------------------------------------\n",
    "    def on15MinBar(self, bar):\n",
    "        \"\"\"收到60MinBar推送\"\"\"\n",
    "        symbol = bar.vtSymbol\n",
    "        \n",
    "        am15 = self.getArrayManager(symbol, \"15m\")\n",
    "        \n",
    "        if not am15.inited:\n",
    "            return\n",
    "        #rsi\n",
    "        rsi = ta.RSI(am15.close, self.rsiPeriod)\n",
    "        \n",
    "        if rsi[-1]<30 and rsi[-2]>30: #进入超卖区间\n",
    "            self.rsiTrend[symbol]=1\n",
    "        elif rsi[-1]>70 and rsi[-2]<70: #进入超买区间\n",
    "            self.rsiTrend[symbol]=-1\n",
    "\n",
    "        #rsi趋势      \n",
    "        rsiUp = rsi[-1]>rsi[-3]\n",
    "        rsiDn = rsi[-1]<rsi[-3]\n",
    "        \n",
    "        #布林通道\n",
    "        up, mid, low = ta.BBANDS(am15.close, self.BBandPeriod) \n",
    "        \n",
    "        if (am15.close[-1] < low[-1]):\n",
    "            self.bollStatus[symbol]=1\n",
    "        elif (am15.close[-1] > up[-1]):\n",
    "            self.bollStatus[symbol]=-1\n",
    "        else:\n",
    "            self.bollStatus[symbol]=0\n",
    "        \n",
    "        #价格趋势\n",
    "        priceUp = am15.close[-1]>am15.close[-3]\n",
    "        priceDn = am15.close[-1]<am15.close[-3]\n",
    "        \n",
    "        # 反转，趋势为多头，多头没有持仓\n",
    "        if (self.turnOver[symbol]==1) and (self.posDict[symbol+'_LONG']==0):\n",
    "            # rsi超卖且上升\n",
    "            if (rsiUp and (self.rsiTrend[symbol] == 1)) and not (priceUp and (self.bollStatus[symbol]==1)):\n",
    "                if (self.posDict[symbol+'_SHORT']==0):\n",
    "                    self.buy(symbol, bar.close*1.01, self.lot)\n",
    "                elif (self.posDict[symbol+'_SHORT'] > 0):\n",
    "                    self.cancelAll() # 撤销挂单\n",
    "                    self.cover(symbol, bar.close*1.01, self.posDict[symbol+'_SHORT']) \n",
    "                    self.buy(symbol, bar.close*1.01, self.lot)\n",
    "            # 价格跌破布林low且上升\n",
    "            elif not (rsiUp and (self.rsiTrend[symbol] == 1)) and (priceUp and (self.bollStatus[symbol]==1)):\n",
    "                if (self.posDict[symbol+'_SHORT']==0):\n",
    "                    self.buy(symbol, bar.close*1.01, self.lot)\n",
    "                elif (self.posDict[symbol+'_SHORT'] > 0):\n",
    "                    self.cancelAll() # 撤销挂单\n",
    "                    self.cover(symbol, bar.close*1.01, self.posDict[symbol+'_SHORT']) \n",
    "                    self.buy(symbol, bar.close*1.01, self.lot)\n",
    "            # 上面两者同时满足\n",
    "            elif rsiUp and (self.rsiTrend[symbol] == 1) and priceUp and (self.bollStatus[symbol]==1):\n",
    "                if (self.posDict[symbol+'_SHORT']==0):\n",
    "                    self.buy(symbol, bar.close*1.01, 3*self.lot)\n",
    "                elif (self.posDict[symbol+'_SHORT'] > 0):\n",
    "                    self.cancelAll() # 撤销挂单\n",
    "                    self.cover(symbol, bar.close*1.01, self.posDict[symbol+'_SHORT']) \n",
    "                    self.buy(symbol, bar.close*1.01, 3*self.lot)\n",
    "        # 反之                      \n",
    "        if (self.turnOver[symbol]==-1) and (self.posDict[symbol+'_SHORT']==0):\n",
    "            if (rsiDn and (self.rsiTrend[symbol] == -1)) and not (priceDn and (self.bollStatus[symbol]==-1)):\n",
    "                if (self.posDict[symbol+'_LONG']==0):\n",
    "                    self.short(symbol, bar.close*0.99, self.lot)\n",
    "                elif (self.posDict[symbol+'_LONG'] > 0):\n",
    "                    self.cancelAll() # 撤销挂单\n",
    "                    self.sell(symbol, bar.close*1.01, self.posDict[symbol+'_LONG']) \n",
    "                    self.short(symbol, bar.close*0.99, self.lot)\n",
    "            elif not (rsiDn and (self.rsiTrend[symbol] == -1)) and (priceDn and (self.bollStatus[symbol]==-1)):\n",
    "                if (self.posDict[symbol+'_LONG']==0):\n",
    "                    self.short(symbol, bar.close*0.99, self.lot)\n",
    "                elif (self.posDict[symbol+'_LONG'] > 0):\n",
    "                    self.cancelAll() # 撤销挂单\n",
    "                    self.sell(symbol, bar.close*1.01, self.posDict[symbol+'_LONG']) \n",
    "                    self.short(symbol, bar.close*0.99, self.lot)\n",
    "            elif (rsiDn and (self.rsiTrend[symbol] == -1)) and (priceDn and (self.bollStatus[symbol]==-1)):\n",
    "                if (self.posDict[symbol+'_LONG']==0):\n",
    "                    self.short(symbol, bar.close*0.99, 3*self.lot)\n",
    "                elif (self.posDict[symbol+'_LONG'] > 0):\n",
    "                    self.cancelAll() # 撤销挂单\n",
    "                    self.sell(symbol, bar.close*1.01, self.posDict[symbol+'_LONG']) \n",
    "                    self.short(symbol, bar.close*0.99, 3*self.lot)\n",
    "            \n",
    "        self.putEvent()\n",
    "    \n",
    "    #----------------------------------------------------------------------\n",
    "    def onOrder(self, order):\n",
    "        \"\"\"收到委托变化推送（必须由用户继承实现）\"\"\"\n",
    "        # 对于无需做细粒度委托控制的策略，可以忽略onOrder\n",
    "        pass\n",
    "    \n",
    "    #----------------------------------------------------------------------\n",
    "    def onTrade(self, trade):\n",
    "        \"\"\"收到成交推送（必须由用户继承实现）\"\"\"\n",
    "        symbol = trade.vtSymbol\n",
    "        if trade.offset == OFFSET_OPEN:  # 判断成交订单类型\n",
    "            self.transactionPrice[symbol] = trade.price # 记录成交价格\n",
    "            print(trade.tradeTime, self.posDict)\n",
    "    #----------------------------------------------------------------------\n",
    "    def onStopOrder(self, so):\n",
    "        \"\"\"停止单推送\"\"\"\n",
    "        pass"
   ]
  },
  {
   "cell_type": "code",
   "execution_count": 20,
   "metadata": {
    "collapsed": true
   },
   "outputs": [
    {
     "name": "stdout",
     "output_type": "stream",
     "text": [
      "仓位字典构造完成 \n初始仓位: {'BTCUSDT:binance_LONG': 0, 'BTCUSDT:binance_SHORT': 0}\n[DEBUG] 注册品种BTCUSDT:binance上的on_60Min_bar函数functools.partial(<function MultiFrameMaStrategy.on60MinBar at 0x0000029519B0E048>, <__main__.MultiFrameMaStrategy object at 0x0000029519060048>)\n[DEBUG] 注册品种BTCUSDT:binance上的on_15Min_bar函数functools.partial(<function MultiFrameMaStrategy.on15MinBar at 0x000002951961AA60>, <__main__.MultiFrameMaStrategy object at 0x0000029519060048>)\n[DEBUG] 注册品种BTCUSDT:binance上的on_1m_bar函数functools.partial(<function MultiFrameMaStrategy.onBar at 0x000002951961A840>, <__main__.MultiFrameMaStrategy object at 0x0000029519060048>)\n2018-12-19 09:10:30.757214\t开始回测\n2018-12-19 09:10:30.757214\t策略初始化\n2018-12-19 09:10:30.760203\t载入历史数据。数据范围:[20180524 04:00,20180601 12:00)\n"
     ]
    },
    {
     "name": "stdout",
     "output_type": "stream",
     "text": [
      "2018-12-19 09:10:31.470405\t 当前品种 BTCUSDT:binance 的数据，全部来自于本地缓存\n2018-12-19 09:10:31.475394\t载入完成，数据量：12000\n2018-12-19 09:10:31.477416\t策略初始化完成\n2018-12-19 09:10:31.478387\t策略启动完成\n2018-12-19 09:10:31.479384\t开始回放回测数据,回测范围:[20180601 12:00,20181201 12:00)\n2018-12-19 09:10:31.517318\t载入历史数据。数据范围:[20180601 12:00,20181201 12:00)\n"
     ]
    },
    {
     "name": "stdout",
     "output_type": "stream",
     "text": [
      "2018-12-19 09:10:47.801416\t 当前品种 BTCUSDT:binance 的数据，全部来自于本地缓存\n2018-12-19 09:10:47.905571\t载入完成，数据量：261728\n2018-12-19 09:10:47.908564\t当前回放数据:[20180601 12:00,20181201 12:00)\n2018-12-19 09:10:47.908564\tProgress: 0%    \r"
     ]
    },
    {
     "name": "stdout",
     "output_type": "stream",
     "text": [
      "[INFO] 品种BTCUSDT:binance开始生成未完成的1mK线数据,时间起点为:20180601120000\n2018-12-19 09:10:47.911523\t载入历史数据。数据范围:[20180531 20:51,20180603 12:01)\n"
     ]
    },
    {
     "name": "stdout",
     "output_type": "stream",
     "text": [
      "2018-12-19 09:10:48.199753\t 当前品种 BTCUSDT:binance 的数据，全部来自于本地缓存\n2018-12-19 09:10:48.202781\t载入完成，数据量：3790\n[INFO] 品种BTCUSDT:binance的历史1mK线更新，范围为:[20180601102100 , 20180601120000]\n[INFO] 品种BTCUSDT:binance的1mK线准备就绪,当前K线时间为20180601120000\n[INFO] 品种BTCUSDT:binance开始生成未完成的60mK线数据,时间起点为:20180601120000\n2018-12-19 09:10:48.237687\t载入历史数据。数据范围:[20180424 15:00,20180531 20:50)\n"
     ]
    },
    {
     "name": "stdout",
     "output_type": "stream",
     "text": [
      "2018-12-19 09:10:50.998309\t失去MongoDB的连接，我们尝试使用本地缓存数据，请注意数据量\n2018-12-19 09:10:51.019258\t载入完成，数据量：44450\n2018-12-19 09:10:51.029222\t载入历史数据。数据范围:[20180603 12:01,20180603 13:00)\n2018-12-19 09:10:51.068085\t 当前品种 BTCUSDT:binance 的数据，全部来自于本地缓存\n2018-12-19 09:10:51.070084\t！！ 数据量为 0 ！！\n"
     ]
    },
    {
     "name": "stderr",
     "output_type": "stream",
     "text": [
      "Traceback (most recent call last):\n  File \"C:\\Users\\49978\\Anaconda3\\lib\\site-packages\\vnpy_fxdayu-1.1.13.dev1811225-py3.6.egg\\vnpy\\trader\\app\\ctaStrategy\\ctaBacktesting.py\", line 282, in loadHistoryData\n    dataList += [self.parseData(dataClass, item) for item in data_df[(data_df.datetime>=start) & (data_df.datetime<end)].to_dict(\"record\")]\n  File \"C:\\Users\\49978\\Anaconda3\\lib\\site-packages\\pandas\\core\\generic.py\", line 2970, in __getattr__\n    return object.__getattribute__(self, name)\nAttributeError: 'DataFrame' object has no attribute 'datetime'\n"
     ]
    },
    {
     "name": "stdout",
     "output_type": "stream",
     "text": [
      "[INFO] 品种BTCUSDT:binance的历史60mK线更新，范围为:[20180528080000 , 20180601110000]\n[INFO] 品种BTCUSDT:binance开始生成未完成的15mK线数据,时间起点为:20180601120000\n"
     ]
    },
    {
     "name": "stdout",
     "output_type": "stream",
     "text": [
      "[INFO] 品种BTCUSDT:binance的历史15mK线更新，范围为:[20180531110000 , 20180601114500]\n[INFO] 品种BTCUSDT:binance开始生成1mK线数据,时间起点为:20180601120100\n[INFO] 品种BTCUSDT:binance开始生成60mK线数据,时间起点为:20180601120000\n[INFO] 品种BTCUSDT:binance开始生成15mK线数据,时间起点为:20180601120000\n"
     ]
    },
    {
     "name": "stdout",
     "output_type": "stream",
     "text": [
      "[DEBUG] merged bar {'gatewayName': '', 'rawData': None, 'vtSymbol': 'BTCUSDT:binance', 'symbol': 'BTCUSDT', 'exchange': 'binance', 'open': 7495.13, 'high': 7497.07, 'low': 7455.48, 'close': 7483.45, 'date': '20180601', 'time': '12:00:00.000000', 'datetime': datetime.datetime(2018, 6, 1, 12, 0), 'volume': 294.761681, 'openInterest': 0}\n[INFO] 品种BTCUSDT:binance的历史15mK线更新，范围为:[20180531111500 , 20180601120000]\n[INFO] 品种BTCUSDT:binance的15mK线准备就绪,当前K线时间为20180601120000\n"
     ]
    },
    {
     "name": "stdout",
     "output_type": "stream",
     "text": [
      "[DEBUG] merged bar {'gatewayName': '', 'rawData': None, 'vtSymbol': 'BTCUSDT:binance', 'symbol': 'BTCUSDT', 'exchange': 'binance', 'open': 7495.13, 'high': 7497.07, 'low': 7455.48, 'close': 7491.22, 'date': '20180601', 'time': '12:00:00.000000', 'datetime': datetime.datetime(2018, 6, 1, 12, 0), 'volume': 962.8287040000002, 'openInterest': 0}\n[INFO] 品种BTCUSDT:binance的历史60mK线更新，范围为:[20180528090000 , 20180601120000]\n[INFO] 品种BTCUSDT:binance的60mK线准备就绪,当前K线时间为20180601120000\n"
     ]
    },
    {
     "name": "stdout",
     "output_type": "stream",
     "text": [
      "2018-12-19 09:10:57.705349\tProgress: 1%    \r"
     ]
    },
    {
     "name": "stdout",
     "output_type": "stream",
     "text": [
      "2018-06-03 12:30:00 {'BTCUSDT:binance_LONG': 0, 'BTCUSDT:binance_SHORT': 1}\n"
     ]
    },
    {
     "name": "stdout",
     "output_type": "stream",
     "text": [
      "2018-12-19 09:10:57.933050\tProgress: 2%    \r"
     ]
    },
    {
     "name": "stdout",
     "output_type": "stream",
     "text": [
      "SHORT stopLoss\n"
     ]
    },
    {
     "name": "stdout",
     "output_type": "stream",
     "text": [
      "2018-12-19 09:10:58.157181\tProgress: 3%    \r"
     ]
    },
    {
     "name": "stdout",
     "output_type": "stream",
     "text": [
      "2018-06-07 05:45:00 {'BTCUSDT:binance_LONG': 0, 'BTCUSDT:binance_SHORT': 1}\n"
     ]
    },
    {
     "name": "stdout",
     "output_type": "stream",
     "text": [
      "2018-12-19 09:10:58.382573\tProgress: 4%    \r"
     ]
    },
    {
     "name": "stdout",
     "output_type": "stream",
     "text": [
      "SHORT stopLoss\n2018-06-09 17:30:00 {'BTCUSDT:binance_LONG': 1, 'BTCUSDT:binance_SHORT': 0}\nLONG stopLoss\n"
     ]
    },
    {
     "name": "stdout",
     "output_type": "stream",
     "text": [
      "2018-12-19 09:10:58.609933\tProgress: 5%    \r"
     ]
    },
    {
     "name": "stdout",
     "output_type": "stream",
     "text": [
      "2018-06-12 02:45:00 {'BTCUSDT:binance_LONG': 1, 'BTCUSDT:binance_SHORT': 0}\n"
     ]
    },
    {
     "name": "stdout",
     "output_type": "stream",
     "text": [
      "2018-12-19 09:10:58.841316\tProgress: 6%    \r"
     ]
    },
    {
     "name": "stdout",
     "output_type": "stream",
     "text": [
      "LONG stopLoss\n"
     ]
    },
    {
     "name": "stdout",
     "output_type": "stream",
     "text": [
      "2018-12-19 09:10:59.062755\tProgress: 7%    \r"
     ]
    },
    {
     "name": "stdout",
     "output_type": "stream",
     "text": [
      "2018-06-14 11:15:00 {'BTCUSDT:binance_LONG': 0, 'BTCUSDT:binance_SHORT': 1}\nSHORT stopLoss\n"
     ]
    },
    {
     "name": "stdout",
     "output_type": "stream",
     "text": [
      "2018-06-14 22:15:00 {'BTCUSDT:binance_LONG': 1, 'BTCUSDT:binance_SHORT': 0}\n"
     ]
    },
    {
     "name": "stdout",
     "output_type": "stream",
     "text": [
      "LONG stopLoss\n2018-12-19 09:10:59.299129\tProgress: 8%    \r"
     ]
    },
    {
     "name": "stdout",
     "output_type": "stream",
     "text": [
      "2018-06-17 01:30:00 {'BTCUSDT:binance_LONG': 0, 'BTCUSDT:binance_SHORT': 3}\nSHORT stopLoss\n"
     ]
    },
    {
     "name": "stdout",
     "output_type": "stream",
     "text": [
      "2018-12-19 09:10:59.521495\tProgress: 9%    \r"
     ]
    },
    {
     "name": "stdout",
     "output_type": "stream",
     "text": [
      "2018-06-17 21:15:00 {'BTCUSDT:binance_LONG': 1, 'BTCUSDT:binance_SHORT': 0}\nLONG stopLoss\n2018-06-18 04:00:00 {'BTCUSDT:binance_LONG': 0, 'BTCUSDT:binance_SHORT': 1}\n"
     ]
    },
    {
     "name": "stdout",
     "output_type": "stream",
     "text": [
      "SHORT stopLoss\n"
     ]
    },
    {
     "name": "stdout",
     "output_type": "stream",
     "text": [
      "2018-12-19 09:10:59.753872\tProgress: 10%    \r"
     ]
    },
    {
     "name": "stdout",
     "output_type": "stream",
     "text": [
      "2018-06-20 03:00:00 {'BTCUSDT:binance_LONG': 0, 'BTCUSDT:binance_SHORT': 1}\n"
     ]
    },
    {
     "name": "stdout",
     "output_type": "stream",
     "text": [
      "SHORT stopLoss\n"
     ]
    },
    {
     "name": "stdout",
     "output_type": "stream",
     "text": [
      "2018-12-19 09:10:59.971294\tProgress: 11%    \r"
     ]
    },
    {
     "name": "stdout",
     "output_type": "stream",
     "text": [
      "2018-06-21 19:15:00"
     ]
    },
    {
     "name": "stdout",
     "output_type": "stream",
     "text": [
      " {'BTCUSDT:binance_LONG': 0, 'BTCUSDT:binance_SHORT': 1}\n"
     ]
    },
    {
     "name": "stdout",
     "output_type": "stream",
     "text": [
      "2018-12-19 09:11:00.181756\tProgress: 12%    \r"
     ]
    },
    {
     "name": "stdout",
     "output_type": "stream",
     "text": [
      "SHORT stopLoss\n2018-06-24 02:45:00 {'BTCUSDT:binance_LONG': 1, 'BTCUSDT:binance_SHORT': 0}\nLONG stopLoss\n2018-06-24 13:30:00 {'BTCUSDT:binance_LONG': 1, 'BTCUSDT:binance_SHORT': 0}\n"
     ]
    },
    {
     "name": "stdout",
     "output_type": "stream",
     "text": [
      "2018-12-19 09:11:00.418099\tProgress: 13%    \r"
     ]
    },
    {
     "name": "stdout",
     "output_type": "stream",
     "text": [
      "LONG stopLoss\n2018-06-25 23:00:00 {'BTCUSDT:binance_LONG': 0, 'BTCUSDT:binance_SHORT': 1}\n"
     ]
    },
    {
     "name": "stdout",
     "output_type": "stream",
     "text": [
      "2018-12-19 09:11:00.637597\tProgress: 14%    \r"
     ]
    },
    {
     "name": "stdout",
     "output_type": "stream",
     "text": [
      "SHORT stopLoss\n2018-06-28 06:15:00 {'BTCUSDT:binance_LONG': 1, 'BTCUSDT:binance_SHORT': 0}\nLONG stopLoss\n2018-06-28 21:15:00 {'BTCUSDT:binance_LONG': 0, 'BTCUSDT:binance_SHORT': 1}\n"
     ]
    },
    {
     "name": "stdout",
     "output_type": "stream",
     "text": [
      "2018-12-19 09:11:00.861915\tProgress: 15%    \r"
     ]
    },
    {
     "name": "stdout",
     "output_type": "stream",
     "text": [
      "SHORT stopLoss\n2018-06-30 05:15:00 {'BTCUSDT:binance_LONG': 1, 'BTCUSDT:binance_SHORT': 0}\n"
     ]
    },
    {
     "name": "stdout",
     "output_type": "stream",
     "text": [
      "2018-12-19 09:11:01.085352\tProgress: 16%    \r"
     ]
    },
    {
     "name": "stdout",
     "output_type": "stream",
     "text": [
      "LONG stopLoss\n2018-07-01 08:30:00 {'BTCUSDT:binance_LONG': 0, 'BTCUSDT:binance_SHORT': 1}\n"
     ]
    },
    {
     "name": "stdout",
     "output_type": "stream",
     "text": [
      "SHORT stopLoss\n2018-07-02 13:30:00 {'BTCUSDT:binance_LONG': 1, 'BTCUSDT:binance_SHORT': 0}\n"
     ]
    },
    {
     "name": "stdout",
     "output_type": "stream",
     "text": [
      "2018-12-19 09:11:01.315700\tProgress: 17%    \r"
     ]
    },
    {
     "name": "stdout",
     "output_type": "stream",
     "text": [
      "LONG stopLoss\n"
     ]
    },
    {
     "name": "stdout",
     "output_type": "stream",
     "text": [
      "2018-07-04 21:45:00"
     ]
    },
    {
     "name": "stdout",
     "output_type": "stream",
     "text": [
      " {'BTCUSDT:binance_LONG': 0, 'BTCUSDT:binance_SHORT': 3}\nSHORT stopLoss\n2018-12-19 09:11:01.538103\tProgress: 18%    \r"
     ]
    },
    {
     "name": "stdout",
     "output_type": "stream",
     "text": [
      "2018-07-05 07:30:00 {'BTCUSDT:binance_LONG': 1, 'BTCUSDT:binance_SHORT': 0}\nLONG stopLoss\n"
     ]
    },
    {
     "name": "stdout",
     "output_type": "stream",
     "text": [
      "2018-12-19 09:11:01.747826\tProgress: 19%    \r"
     ]
    },
    {
     "name": "stdout",
     "output_type": "stream",
     "text": [
      "2018-07-06 20:45:00 {'BTCUSDT:binance_LONG': 0, 'BTCUSDT:binance_SHORT': 1}\nSHORT stopLoss\n"
     ]
    },
    {
     "name": "stdout",
     "output_type": "stream",
     "text": [
      "2018-07-07 21:45:00 {'BTCUSDT:binance_LONG': 1, 'BTCUSDT:binance_SHORT': 0}\nLONG stopLoss\n2018-07-08 08:00:00 {'BTCUSDT:binance_LONG': 0, 'BTCUSDT:binance_SHORT': 3}\n"
     ]
    },
    {
     "name": "stdout",
     "output_type": "stream",
     "text": [
      "2018-12-19 09:11:01.967959\tProgress: 20%    \r"
     ]
    },
    {
     "name": "stdout",
     "output_type": "stream",
     "text": [
      "SHORT stopLoss\n2018-07-10 08:00:00"
     ]
    },
    {
     "name": "stdout",
     "output_type": "stream",
     "text": [
      " {'BTCUSDT:binance_LONG': 1, 'BTCUSDT:binance_SHORT': 0}\n2018-12-19 09:11:02.192359\tProgress: 21%    \r"
     ]
    },
    {
     "name": "stdout",
     "output_type": "stream",
     "text": [
      "LONG stopLoss\n2018-07-10 20:15:00 {'BTCUSDT:binance_LONG': 1, 'BTCUSDT:binance_SHORT': 0}\n"
     ]
    },
    {
     "name": "stdout",
     "output_type": "stream",
     "text": [
      "2018-12-19 09:11:02.409895\tProgress: 22%    \r"
     ]
    },
    {
     "name": "stdout",
     "output_type": "stream",
     "text": [
      "LONG stopLoss\n"
     ]
    },
    {
     "name": "stdout",
     "output_type": "stream",
     "text": [
      "2018-12-19 09:11:02.630223\tProgress: 23%    \r"
     ]
    },
    {
     "name": "stdout",
     "output_type": "stream",
     "text": [
      "2018-07-14 04:15:00 {'BTCUSDT:binance_LONG': 1, 'BTCUSDT:binance_SHORT': 0}\nLONG stopLoss\n"
     ]
    },
    {
     "name": "stdout",
     "output_type": "stream",
     "text": [
      "2018-07-15 00:00:00 {'BTCUSDT:binance_LONG': 1, 'BTCUSDT:binance_SHORT': 0}\n"
     ]
    },
    {
     "name": "stdout",
     "output_type": "stream",
     "text": [
      "2018-12-19 09:11:02.853623\tProgress: 24%    \r"
     ]
    },
    {
     "name": "stdout",
     "output_type": "stream",
     "text": [
      "2018-12-19 09:11:03.070051\tProgress: 25%    \r"
     ]
    },
    {
     "name": "stdout",
     "output_type": "stream",
     "text": [
      "LONG stopLoss\n"
     ]
    },
    {
     "name": "stdout",
     "output_type": "stream",
     "text": [
      "2018-12-19 09:11:03.292419\tProgress: 26%    \r"
     ]
    },
    {
     "name": "stdout",
     "output_type": "stream",
     "text": [
      "2018-07-19 18:15:00 {'BTCUSDT:binance_LONG': 0, 'BTCUSDT:binance_SHORT': 1}\nSHORT stopLoss\n2018-07-20 15:30:00 {'BTCUSDT:binance_LONG': 1, 'BTCUSDT:binance_SHORT': 0}\nLONG stopLoss\n"
     ]
    },
    {
     "name": "stdout",
     "output_type": "stream",
     "text": [
      "2018-07-21 01:00:00 {'BTCUSDT:binance_LONG': 0, 'BTCUSDT:binance_SHORT': 1}\n"
     ]
    },
    {
     "name": "stdout",
     "output_type": "stream",
     "text": [
      "2018-12-19 09:11:03.532809\tProgress: 27%    \r"
     ]
    },
    {
     "name": "stdout",
     "output_type": "stream",
     "text": [
      "SHORT stopLoss\n"
     ]
    },
    {
     "name": "stdout",
     "output_type": "stream",
     "text": [
      "2018-12-19 09:11:03.751227\tProgress: 28%    \r"
     ]
    },
    {
     "name": "stdout",
     "output_type": "stream",
     "text": [
      "2018-07-23 11:15:00 {'BTCUSDT:binance_LONG': 0, 'BTCUSDT:binance_SHORT': 1}\n"
     ]
    },
    {
     "name": "stdout",
     "output_type": "stream",
     "text": [
      "SHORT stopLoss\n2018-07-24 14:00:00 {'BTCUSDT:binance_LONG': 0, 'BTCUSDT:binance_SHORT': 1}\n"
     ]
    },
    {
     "name": "stdout",
     "output_type": "stream",
     "text": [
      "SHORT stopLoss\n2018-07-24 20:30:00 {'BTCUSDT:binance_LONG': 0, 'BTCUSDT:binance_SHORT': 1}\n2018-12-19 09:11:03.985602\tProgress: 29%    \r"
     ]
    },
    {
     "name": "stdout",
     "output_type": "stream",
     "text": [
      "SHORT stopLoss\n2018-12-19 09:11:04.211993\tProgress: 30%    \r"
     ]
    },
    {
     "name": "stdout",
     "output_type": "stream",
     "text": [
      "2018-07-28 00:00:00 {'BTCUSDT:binance_LONG': 0, 'BTCUSDT:binance_SHORT': 3}\nSHORT stopLoss\n"
     ]
    },
    {
     "name": "stdout",
     "output_type": "stream",
     "text": [
      "2018-12-19 09:11:04.430379\tProgress: 31%    \r"
     ]
    },
    {
     "name": "stdout",
     "output_type": "stream",
     "text": [
      "2018-07-28 22:00:00 {'BTCUSDT:binance_LONG': 0, 'BTCUSDT:binance_SHORT': 1}\nSHORT stopLoss\n2018-07-29 16:45:00"
     ]
    },
    {
     "name": "stdout",
     "output_type": "stream",
     "text": [
      " {'BTCUSDT:binance_LONG': 3, 'BTCUSDT:binance_SHORT': 0}\nLONG stopLoss\n2018-07-30 08:00:00 {'BTCUSDT:binance_LONG': 0, 'BTCUSDT:binance_SHORT': 1}\n"
     ]
    },
    {
     "name": "stdout",
     "output_type": "stream",
     "text": [
      "2018-12-19 09:11:04.648791\tProgress: 32%    \r"
     ]
    },
    {
     "name": "stdout",
     "output_type": "stream",
     "text": [
      "2018-12-19 09:11:04.876224\tProgress: 33%    \r"
     ]
    },
    {
     "name": "stdout",
     "output_type": "stream",
     "text": [
      "SHORT stopLoss\n2018-08-02 08:15:00 {'BTCUSDT:binance_LONG': 1, 'BTCUSDT:binance_SHORT': 0}\nLONG stopLoss"
     ]
    },
    {
     "name": "stdout",
     "output_type": "stream",
     "text": [
      "\n2018-12-19 09:11:05.108600\tProgress: 34%    \r"
     ]
    },
    {
     "name": "stdout",
     "output_type": "stream",
     "text": [
      "2018-08-03 23:00:00 {'BTCUSDT:binance_LONG': 0, 'BTCUSDT:binance_SHORT': 1}\n"
     ]
    },
    {
     "name": "stdout",
     "output_type": "stream",
     "text": [
      "SHORT stopLoss\n2018-08-04 06:30:00 {'BTCUSDT:binance_LONG': 1, 'BTCUSDT:binance_SHORT': 0}\n"
     ]
    },
    {
     "name": "stdout",
     "output_type": "stream",
     "text": [
      "LONG stopLoss\n2018-12-19 09:11:05.327978\tProgress: 35%    \r"
     ]
    },
    {
     "name": "stdout",
     "output_type": "stream",
     "text": [
      "2018-08-05 18:30:00 {'BTCUSDT:binance_LONG': 0, 'BTCUSDT:binance_SHORT': 3}\nSHORT stopLoss\n"
     ]
    },
    {
     "name": "stdout",
     "output_type": "stream",
     "text": [
      "2018-08-05 23:15:00 {'BTCUSDT:binance_LONG': 1, 'BTCUSDT:binance_SHORT': 0}\n"
     ]
    },
    {
     "name": "stdout",
     "output_type": "stream",
     "text": [
      "LONG stopLoss\n2018-12-19 09:11:05.550383\tProgress: 36%    \r"
     ]
    },
    {
     "name": "stdout",
     "output_type": "stream",
     "text": [
      "2018-08-07 15:45:00"
     ]
    },
    {
     "name": "stdout",
     "output_type": "stream",
     "text": [
      " {'BTCUSDT:binance_LONG': 0, 'BTCUSDT:binance_SHORT': 3}\nSHORT stopLoss\n2018-08-08 04:45:00 {'BTCUSDT:binance_LONG': 3, 'BTCUSDT:binance_SHORT': 0}\nLONG stopLoss\n"
     ]
    },
    {
     "name": "stdout",
     "output_type": "stream",
     "text": [
      "2018-12-19 09:11:05.760822\tProgress: 37%    \r"
     ]
    },
    {
     "name": "stdout",
     "output_type": "stream",
     "text": [
      "2018-12-19 09:11:05.970263\tProgress: 38%    \r"
     ]
    },
    {
     "name": "stdout",
     "output_type": "stream",
     "text": [
      "2018-08-10 11:00:00 {'BTCUSDT:binance_LONG': 1, 'BTCUSDT:binance_SHORT': 0}\nLONG stopLoss\n"
     ]
    },
    {
     "name": "stdout",
     "output_type": "stream",
     "text": [
      "2018-12-19 09:11:06.195729\tProgress: 39%    \r"
     ]
    },
    {
     "name": "stdout",
     "output_type": "stream",
     "text": [
      "2018-08-12 08:30:00 {'BTCUSDT:binance_LONG': 1, 'BTCUSDT:binance_SHORT': 0}\nLONG stopLoss\n2018-08-12 23:00:00 {'BTCUSDT:binance_LONG': 0, 'BTCUSDT:binance_SHORT': 1}\n"
     ]
    },
    {
     "name": "stdout",
     "output_type": "stream",
     "text": [
      "2018-12-19 09:11:06.418064\tProgress: 40%    \r"
     ]
    },
    {
     "name": "stdout",
     "output_type": "stream",
     "text": [
      "SHORT stopLoss\n2018-12-19 09:11:06.613576\tProgress: 41%    \r"
     ]
    },
    {
     "name": "stdout",
     "output_type": "stream",
     "text": [
      "2018-08-16 08:00:00 {'BTCUSDT:binance_LONG': 1, 'BTCUSDT:binance_SHORT': 0}\nLONG stopLoss\n2018-08-16 15:45:00 {'BTCUSDT:binance_LONG': 0, 'BTCUSDT:binance_SHORT': 1}\n"
     ]
    },
    {
     "name": "stdout",
     "output_type": "stream",
     "text": [
      "SHORT stopLoss\n2018-08-17 05:30:00 {'BTCUSDT:binance_LONG': 3, 'BTCUSDT:binance_SHORT': 0}\n2018-12-19 09:11:06.832004\tProgress: 42%    \r"
     ]
    },
    {
     "name": "stdout",
     "output_type": "stream",
     "text": [
      "LONG stopLoss"
     ]
    },
    {
     "name": "stdout",
     "output_type": "stream",
     "text": [
      "\n2018-12-19 09:11:07.041437\tProgress: 43%    \r"
     ]
    },
    {
     "name": "stdout",
     "output_type": "stream",
     "text": [
      "2018-08-19 19:00:00 {'BTCUSDT:binance_LONG': 1, 'BTCUSDT:binance_SHORT': 0}\n"
     ]
    },
    {
     "name": "stdout",
     "output_type": "stream",
     "text": [
      "LONG stopLoss\n2018-12-19 09:11:07.263835\tProgress: 44%    \r"
     ]
    },
    {
     "name": "stdout",
     "output_type": "stream",
     "text": [
      "2018-08-21 15:00:00 {'BTCUSDT:binance_LONG': 0, 'BTCUSDT:binance_SHORT': 1}\nSHORT stopLoss\n"
     ]
    },
    {
     "name": "stdout",
     "output_type": "stream",
     "text": [
      "2018-08-23 00:45:00 {'BTCUSDT:binance_LONG': 1, 'BTCUSDT:binance_SHORT': 0}\nLONG stopLoss\n2018-12-19 09:11:07.492222\tProgress: 45%    \r"
     ]
    },
    {
     "name": "stdout",
     "output_type": "stream",
     "text": [
      "2018-08-23 22:45:00 {'BTCUSDT:binance_LONG': 0, 'BTCUSDT:binance_SHORT': 1}\nSHORT stopLoss\n"
     ]
    },
    {
     "name": "stdout",
     "output_type": "stream",
     "text": [
      "2018-12-19 09:11:07.709647\tProgress: 46%    \r"
     ]
    },
    {
     "name": "stdout",
     "output_type": "stream",
     "text": [
      "2018-08-26 06:00:00 {'BTCUSDT:binance_LONG': 0, 'BTCUSDT:binance_SHORT': 1}\n"
     ]
    },
    {
     "name": "stdout",
     "output_type": "stream",
     "text": [
      "2018-12-19 09:11:07.926071\tProgress: 47%    \r"
     ]
    },
    {
     "name": "stdout",
     "output_type": "stream",
     "text": [
      "SHORT stopLoss\n2018-08-27 18:00:00 {'BTCUSDT:binance_LONG': 0, 'BTCUSDT:binance_SHORT': 1}\n"
     ]
    },
    {
     "name": "stdout",
     "output_type": "stream",
     "text": [
      "2018-12-19 09:11:08.121542\tProgress: 48%    \r"
     ]
    },
    {
     "name": "stdout",
     "output_type": "stream",
     "text": [
      "SHORT stopLoss\n2018-08-28 20:15:00 {'BTCUSDT:binance_LONG': 0, 'BTCUSDT:binance_SHORT': 1}\n"
     ]
    },
    {
     "name": "stdout",
     "output_type": "stream",
     "text": [
      "2018-12-19 09:11:08.333978\tProgress: 49%    \r"
     ]
    },
    {
     "name": "stdout",
     "output_type": "stream",
     "text": [
      "SHORT stopLoss\n2018-08-31 21:15:00 {'BTCUSDT:binance_LONG': 1, 'BTCUSDT:binance_SHORT': 0}\n"
     ]
    },
    {
     "name": "stdout",
     "output_type": "stream",
     "text": [
      "2018-12-19 09:11:08.554390\tProgress: 50%    \r"
     ]
    },
    {
     "name": "stdout",
     "output_type": "stream",
     "text": [
      "2018-12-19 09:11:08.751867\tProgress: 51%    \r"
     ]
    },
    {
     "name": "stdout",
     "output_type": "stream",
     "text": [
      "LONG stopLoss\n2018-09-03 00:15:00 {'BTCUSDT:binance_LONG': 0, 'BTCUSDT:binance_SHORT': 1}\nSHORT stopLoss\n2018-09-04 13:00:00 {'BTCUSDT:binance_LONG': 1, 'BTCUSDT:binance_SHORT': 0}\n"
     ]
    },
    {
     "name": "stdout",
     "output_type": "stream",
     "text": [
      "2018-12-19 09:11:08.986236\tProgress: 52%    \r"
     ]
    },
    {
     "name": "stdout",
     "output_type": "stream",
     "text": [
      "LONG stopLoss\n"
     ]
    },
    {
     "name": "stdout",
     "output_type": "stream",
     "text": [
      "2018-12-19 09:11:09.200732\tProgress: 53%    \r"
     ]
    },
    {
     "name": "stdout",
     "output_type": "stream",
     "text": [
      "2018-09-06 22:30:00 {'BTCUSDT:binance_LONG': 0, 'BTCUSDT:binance_SHORT': 1}\nSHORT stopLoss\n"
     ]
    },
    {
     "name": "stdout",
     "output_type": "stream",
     "text": [
      "2018-09-07 18:45:00 {'BTCUSDT:binance_LONG': 1, 'BTCUSDT:binance_SHORT': 0}\nLONG stopLoss\n"
     ]
    },
    {
     "name": "stdout",
     "output_type": "stream",
     "text": [
      "2018-12-19 09:11:09.416122\tProgress: 54%    \r"
     ]
    },
    {
     "name": "stdout",
     "output_type": "stream",
     "text": [
      "2018-09-08 15:30:00 {'BTCUSDT:binance_LONG': 1, 'BTCUSDT:binance_SHORT': 0}\nLONG stopLoss\n2018-09-09 02:45:00 {'BTCUSDT:binance_LONG': 1, 'BTCUSDT:binance_SHORT': 0}\n"
     ]
    },
    {
     "name": "stdout",
     "output_type": "stream",
     "text": [
      "2018-12-19 09:11:09.624691\tProgress: 55%    \r"
     ]
    },
    {
     "name": "stdout",
     "output_type": "stream",
     "text": [
      "LONG stopLoss\n2018-09-11 04:00:00 {'BTCUSDT:binance_LONG': 1, 'BTCUSDT:binance_SHORT': 0}\nLONG stopLoss\n"
     ]
    },
    {
     "name": "stdout",
     "output_type": "stream",
     "text": [
      "2018-12-19 09:11:09.850889\tProgress: 56%    \r"
     ]
    },
    {
     "name": "stdout",
     "output_type": "stream",
     "text": [
      "2018-09-12 19:45:00 {'BTCUSDT:binance_LONG': 1, 'BTCUSDT:binance_SHORT': 0}\n"
     ]
    },
    {
     "name": "stdout",
     "output_type": "stream",
     "text": [
      "2018-12-19 09:11:10.058337\tProgress: 57%    \r"
     ]
    },
    {
     "name": "stdout",
     "output_type": "stream",
     "text": [
      "LONG stopLoss\n2018-09-15 13:00:00 {'BTCUSDT:binance_LONG': 1, 'BTCUSDT:binance_SHORT': 0}\n2018-12-19 09:11:10.268807\tProgress: 58%    \r"
     ]
    },
    {
     "name": "stdout",
     "output_type": "stream",
     "text": [
      "LONG stopLoss\n2018-09-16 07:15:00 {'BTCUSDT:binance_LONG': 0, 'BTCUSDT:binance_SHORT': 1}\n"
     ]
    },
    {
     "name": "stdout",
     "output_type": "stream",
     "text": [
      "SHORT stopLoss\n2018-09-17 08:15:00 {'BTCUSDT:binance_LONG': 1, 'BTCUSDT:binance_SHORT': 0}\n"
     ]
    },
    {
     "name": "stdout",
     "output_type": "stream",
     "text": [
      "2018-12-19 09:11:10.485502\tProgress: 59%    \r"
     ]
    },
    {
     "name": "stdout",
     "output_type": "stream",
     "text": [
      "LONG stopLoss\n"
     ]
    },
    {
     "name": "stdout",
     "output_type": "stream",
     "text": [
      "2018-12-19 09:11:10.710593\tProgress: 60%    \r"
     ]
    },
    {
     "name": "stdout",
     "output_type": "stream",
     "text": [
      "2018-09-19 17:45:00 {'BTCUSDT:binance_LONG': 1, 'BTCUSDT:binance_SHORT': 0}\nLONG stopLoss\n2018-09-19 19:00:00 {'BTCUSDT:binance_LONG': 0, 'BTCUSDT:binance_SHORT': 1}\n"
     ]
    },
    {
     "name": "stdout",
     "output_type": "stream",
     "text": [
      "2018-12-19 09:11:10.938099\tProgress: 61%    \r"
     ]
    },
    {
     "name": "stdout",
     "output_type": "stream",
     "text": [
      "SHORT stopLoss\n2018-09-21 16:45:00 {'BTCUSDT:binance_LONG': 0, 'BTCUSDT:binance_SHORT': 1}\n"
     ]
    },
    {
     "name": "stdout",
     "output_type": "stream",
     "text": [
      "2018-12-19 09:11:11.155406\tProgress: 62%    \r"
     ]
    },
    {
     "name": "stdout",
     "output_type": "stream",
     "text": [
      "SHORT stopLoss\n2018-12-19 09:11:11.363881\tProgress: 63%    \r"
     ]
    },
    {
     "name": "stdout",
     "output_type": "stream",
     "text": [
      "2018-09-26 13:15:00 {'BTCUSDT:binance_LONG': 1, 'BTCUSDT:binance_SHORT': 0}\n2018-12-19 09:11:11.588281\tProgress: 64%    \r"
     ]
    },
    {
     "name": "stdout",
     "output_type": "stream",
     "text": [
      "LONG stopLoss\n2018-09-28 04:30:00 {'BTCUSDT:binance_LONG': 0, 'BTCUSDT:binance_SHORT': 1}\n"
     ]
    },
    {
     "name": "stdout",
     "output_type": "stream",
     "text": [
      "2018-12-19 09:11:11.804701\tProgress: 65%    \r"
     ]
    },
    {
     "name": "stdout",
     "output_type": "stream",
     "text": [
      "SHORT stopLoss"
     ]
    },
    {
     "name": "stdout",
     "output_type": "stream",
     "text": [
      "\n2018-12-19 09:11:12.016106\tProgress: 66%    \r"
     ]
    },
    {
     "name": "stdout",
     "output_type": "stream",
     "text": [
      "2018-09-30 06:15:00 {'BTCUSDT:binance_LONG': 1, 'BTCUSDT:binance_SHORT': 0}\nLONG stopLoss\n2018-09-30 17:30:00 {'BTCUSDT:binance_LONG': 0, 'BTCUSDT:binance_SHORT': 1}\n"
     ]
    },
    {
     "name": "stdout",
     "output_type": "stream",
     "text": [
      "2018-12-19 09:11:12.239982\tProgress: 67%    \r"
     ]
    },
    {
     "name": "stdout",
     "output_type": "stream",
     "text": [
      "SHORT stopLoss\n2018-10-02 15:45:00 {'BTCUSDT:binance_LONG': 1, 'BTCUSDT:binance_SHORT': 0}\n"
     ]
    },
    {
     "name": "stdout",
     "output_type": "stream",
     "text": [
      "2018-12-19 09:11:12.458919\tProgress: 68%    \r"
     ]
    },
    {
     "name": "stdout",
     "output_type": "stream",
     "text": [
      "LONG stopLoss\n"
     ]
    },
    {
     "name": "stdout",
     "output_type": "stream",
     "text": [
      "2018-12-19 09:11:12.664400\tProgress: 69%    \r"
     ]
    },
    {
     "name": "stdout",
     "output_type": "stream",
     "text": [
      "2018-10-06 06:45:00 {'BTCUSDT:binance_LONG': 0, 'BTCUSDT:binance_SHORT': 3}\nSHORT stopLoss\n2018-10-06 20:15:00 {'BTCUSDT:binance_LONG': 1, 'BTCUSDT:binance_SHORT': 0}\nLONG stopLoss\n"
     ]
    },
    {
     "name": "stdout",
     "output_type": "stream",
     "text": [
      "2018-12-19 09:11:12.875805\tProgress: 70%    \r"
     ]
    },
    {
     "name": "stdout",
     "output_type": "stream",
     "text": [
      "2018-10-08 08:15:00 {'BTCUSDT:binance_LONG': 0, 'BTCUSDT:binance_SHORT': 1}\nSHORT stopLoss\n2018-10-08 14:15:00 {'BTCUSDT:binance_LONG': 1, 'BTCUSDT:binance_SHORT': 0}\n"
     ]
    },
    {
     "name": "stdout",
     "output_type": "stream",
     "text": [
      "2018-12-19 09:11:13.100207\tProgress: 71%    \r"
     ]
    },
    {
     "name": "stdout",
     "output_type": "stream",
     "text": [
      "LONG stopLoss\n2018-10-09 18:30:00 {'BTCUSDT:binance_LONG': 0, 'BTCUSDT:binance_SHORT': 1}\n"
     ]
    },
    {
     "name": "stdout",
     "output_type": "stream",
     "text": [
      "2018-12-19 09:11:13.298710\tProgress: 72%    \r"
     ]
    },
    {
     "name": "stdout",
     "output_type": "stream",
     "text": [
      "SHORT stopLoss\n2018-10-12 12:15:00 {'BTCUSDT:binance_LONG': 1, 'BTCUSDT:binance_SHORT': 0}\n"
     ]
    },
    {
     "name": "stdout",
     "output_type": "stream",
     "text": [
      "2018-12-19 09:11:13.525122\tProgress: 73%    \r"
     ]
    },
    {
     "name": "stdout",
     "output_type": "stream",
     "text": [
      "LONG stopLoss\n2018-10-14 03:30:00 {'BTCUSDT:binance_LONG': 1, 'BTCUSDT:binance_SHORT': 0}\n"
     ]
    },
    {
     "name": "stdout",
     "output_type": "stream",
     "text": [
      "2018-12-19 09:11:13.727652\tProgress: 74%    \r"
     ]
    },
    {
     "name": "stdout",
     "output_type": "stream",
     "text": [
      "LONG stopLoss\n2018-10-15 15:15:00 {'BTCUSDT:binance_LONG': 0, 'BTCUSDT:binance_SHORT': 1}\n"
     ]
    },
    {
     "name": "stdout",
     "output_type": "stream",
     "text": [
      "2018-12-19 09:11:13.954048\tProgress: 75%    \r"
     ]
    },
    {
     "name": "stdout",
     "output_type": "stream",
     "text": [
      "SHORT stopLoss\n2018-10-17 02:15:00 {'BTCUSDT:binance_LONG': 1, 'BTCUSDT:binance_SHORT': 0}\n"
     ]
    },
    {
     "name": "stdout",
     "output_type": "stream",
     "text": [
      "2018-12-19 09:11:14.160441\tProgress: 76%    \r"
     ]
    },
    {
     "name": "stdout",
     "output_type": "stream",
     "text": [
      "2018-12-19 09:11:14.355902\tProgress: 77%    \r"
     ]
    },
    {
     "name": "stdout",
     "output_type": "stream",
     "text": [
      "2018-12-19 09:11:14.578307\tProgress: 78%    \r"
     ]
    },
    {
     "name": "stdout",
     "output_type": "stream",
     "text": [
      "LONG stopLoss\n2018-10-23 21:30:00 {'BTCUSDT:binance_LONG': 0, 'BTCUSDT:binance_SHORT': 1}\n2018-12-19 09:11:14.784755\tProgress: 79%    \r"
     ]
    },
    {
     "name": "stdout",
     "output_type": "stream",
     "text": [
      "SHORT stopLoss\n2018-10-25 00:15:00 {'BTCUSDT:binance_LONG': 1, 'BTCUSDT:binance_SHORT': 0}\nLONG stopLoss\n"
     ]
    },
    {
     "name": "stdout",
     "output_type": "stream",
     "text": [
      "2018-12-19 09:11:15.004169\tProgress: 80%    \r"
     ]
    },
    {
     "name": "stdout",
     "output_type": "stream",
     "text": [
      "2018-10-26 07:00:00 {'BTCUSDT:binance_LONG': 1, 'BTCUSDT:binance_SHORT': 0}\nLONG stopLoss\n"
     ]
    },
    {
     "name": "stdout",
     "output_type": "stream",
     "text": [
      "2018-12-19 09:11:15.212675\tProgress: 81%    \r"
     ]
    },
    {
     "name": "stdout",
     "output_type": "stream",
     "text": [
      "2018-10-27 18:00:00 {'BTCUSDT:binance_LONG': 1, 'BTCUSDT:binance_SHORT': 0}\nLONG stopLoss\n"
     ]
    },
    {
     "name": "stdout",
     "output_type": "stream",
     "text": [
      "2018-12-19 09:11:15.411082\tProgress: 82%    \r"
     ]
    },
    {
     "name": "stdout",
     "output_type": "stream",
     "text": [
      "2018-10-29 20:00:00 {'BTCUSDT:binance_LONG': 3, 'BTCUSDT:binance_SHORT': 0}\n"
     ]
    },
    {
     "name": "stdout",
     "output_type": "stream",
     "text": [
      "2018-12-19 09:11:15.629499\tProgress: 83%    \r"
     ]
    },
    {
     "name": "stdout",
     "output_type": "stream",
     "text": [
      "LONG stopLoss\n2018-11-01 21:30:00 {'BTCUSDT:binance_LONG': 0, 'BTCUSDT:binance_SHORT': 1}\n2018-12-19 09:11:15.829963\tProgress: 84%    \r"
     ]
    },
    {
     "name": "stdout",
     "output_type": "stream",
     "text": [
      "2018-12-19 09:11:16.045386\tProgress: 85%    \r"
     ]
    },
    {
     "name": "stdout",
     "output_type": "stream",
     "text": [
      "SHORT stopLoss\n"
     ]
    },
    {
     "name": "stdout",
     "output_type": "stream",
     "text": [
      "2018-11-05 17:30:00 {'BTCUSDT:binance_LONG': 1, 'BTCUSDT:binance_SHORT': 0}\n2018-12-19 09:11:16.261808\tProgress: 86%    \r"
     ]
    },
    {
     "name": "stdout",
     "output_type": "stream",
     "text": [
      "LONG stopLoss\n2018-11-05 22:00:00 {'BTCUSDT:binance_LONG': 0, 'BTCUSDT:binance_SHORT': 1}\n"
     ]
    },
    {
     "name": "stdout",
     "output_type": "stream",
     "text": [
      "SHORT stopLoss\n2018-11-06 14:30:00 {'BTCUSDT:binance_LONG': 1, 'BTCUSDT:binance_SHORT': 0}\n"
     ]
    },
    {
     "name": "stdout",
     "output_type": "stream",
     "text": [
      "2018-12-19 09:11:16.472379\tProgress: 87%    \r"
     ]
    },
    {
     "name": "stdout",
     "output_type": "stream",
     "text": [
      "LONG stopLoss\n2018-11-08 06:30:00 {'BTCUSDT:binance_LONG': 0, 'BTCUSDT:binance_SHORT': 1}\n"
     ]
    },
    {
     "name": "stdout",
     "output_type": "stream",
     "text": [
      "2018-12-19 09:11:16.671712\tProgress: 88%    \r"
     ]
    },
    {
     "name": "stdout",
     "output_type": "stream",
     "text": [
      "SHORT stopLoss\n"
     ]
    },
    {
     "name": "stdout",
     "output_type": "stream",
     "text": [
      "2018-12-19 09:11:16.899322\tProgress: 89%    \r"
     ]
    },
    {
     "name": "stdout",
     "output_type": "stream",
     "text": [
      "2018-11-11 08:15:00 {'BTCUSDT:binance_LONG': 1, 'BTCUSDT:binance_SHORT': 0}\nLONG stopLoss\n"
     ]
    },
    {
     "name": "stdout",
     "output_type": "stream",
     "text": [
      "2018-11-12 08:45:00 {'BTCUSDT:binance_LONG': 0, 'BTCUSDT:binance_SHORT': 1}\nSHORT stopLoss\n2018-12-19 09:11:17.097611\tProgress: 90%    \r"
     ]
    },
    {
     "name": "stdout",
     "output_type": "stream",
     "text": [
      "2018-11-13 06:00:00 {'BTCUSDT:binance_LONG': 0, 'BTCUSDT:binance_SHORT': 1}\nSHORT stopLoss\n"
     ]
    },
    {
     "name": "stdout",
     "output_type": "stream",
     "text": [
      "2018-11-14 18:00:00 {'BTCUSDT:binance_LONG': 0, 'BTCUSDT:binance_SHORT': 1}\n2018-12-19 09:11:17.297043\tProgress: 91%    \r"
     ]
    },
    {
     "name": "stdout",
     "output_type": "stream",
     "text": [
      "SHORT stopLoss\n2018-11-16 09:15:00 {'BTCUSDT:binance_LONG': 1, 'BTCUSDT:binance_SHORT': 0}\n"
     ]
    },
    {
     "name": "stdout",
     "output_type": "stream",
     "text": [
      "2018-12-19 09:11:17.514460\tProgress: 92%    \r"
     ]
    },
    {
     "name": "stdout",
     "output_type": "stream",
     "text": [
      "LONG stopLoss\n"
     ]
    },
    {
     "name": "stdout",
     "output_type": "stream",
     "text": [
      "2018-11-18 01:30:00 {'BTCUSDT:binance_LONG': 0, 'BTCUSDT:binance_SHORT': 1}\nSHORT stopLoss\n"
     ]
    },
    {
     "name": "stdout",
     "output_type": "stream",
     "text": [
      "2018-12-19 09:11:17.731881\tProgress: 93%    \r"
     ]
    },
    {
     "name": "stdout",
     "output_type": "stream",
     "text": [
      "2018-11-18 19:15:00 {'BTCUSDT:binance_LONG': 1, 'BTCUSDT:binance_SHORT': 0}\n"
     ]
    },
    {
     "name": "stdout",
     "output_type": "stream",
     "text": [
      "LONG stopLoss\n2018-11-19 07:45:00 {'BTCUSDT:binance_LONG': 0, 'BTCUSDT:binance_SHORT': 1}\n"
     ]
    },
    {
     "name": "stdout",
     "output_type": "stream",
     "text": [
      "2018-12-19 09:11:17.917383\tProgress: 94%    \r"
     ]
    },
    {
     "name": "stdout",
     "output_type": "stream",
     "text": [
      "SHORT stopLoss\n2018-11-21 14:30:00 {'BTCUSDT:binance_LONG': 1, 'BTCUSDT:binance_SHORT': 0}\n"
     ]
    },
    {
     "name": "stdout",
     "output_type": "stream",
     "text": [
      "2018-12-19 09:11:18.134918\tProgress: 95%    \r"
     ]
    },
    {
     "name": "stdout",
     "output_type": "stream",
     "text": [
      "LONG stopLoss\n2018-11-22 16:30:00 {'BTCUSDT:binance_LONG': 0, 'BTCUSDT:binance_SHORT': 1}\n"
     ]
    },
    {
     "name": "stdout",
     "output_type": "stream",
     "text": [
      "2018-12-19 09:11:18.328290\tProgress: 96%    \r"
     ]
    },
    {
     "name": "stdout",
     "output_type": "stream",
     "text": [
      "SHORT stopLoss\n2018-11-24 06:15:00 {'BTCUSDT:binance_LONG': 1, 'BTCUSDT:binance_SHORT': 0}\n"
     ]
    },
    {
     "name": "stdout",
     "output_type": "stream",
     "text": [
      "LONG stopLoss\n2018-11-24 20:30:00 {'BTCUSDT:binance_LONG': 0, 'BTCUSDT:binance_SHORT': 1}\n"
     ]
    },
    {
     "name": "stdout",
     "output_type": "stream",
     "text": [
      "2018-12-19 09:11:18.552733\tProgress: 97%    \r"
     ]
    },
    {
     "name": "stdout",
     "output_type": "stream",
     "text": [
      "SHORT stopLoss\n"
     ]
    },
    {
     "name": "stdout",
     "output_type": "stream",
     "text": [
      "2018-11-26 22:45:00 {'BTCUSDT:binance_LONG': 1, 'BTCUSDT:binance_SHORT': 0}\nLONG stopLoss\n2018-12-19 09:11:18.749364\tProgress: 98%    \r"
     ]
    },
    {
     "name": "stdout",
     "output_type": "stream",
     "text": [
      "2018-11-28 02:15:00"
     ]
    },
    {
     "name": "stdout",
     "output_type": "stream",
     "text": [
      " {'BTCUSDT:binance_LONG': 1, 'BTCUSDT:binance_SHORT': 0}\n"
     ]
    },
    {
     "name": "stdout",
     "output_type": "stream",
     "text": [
      "2018-12-19 09:11:18.940697\tProgress: 99%    \r"
     ]
    },
    {
     "name": "stdout",
     "output_type": "stream",
     "text": [
      "LONG stopLoss"
     ]
    },
    {
     "name": "stdout",
     "output_type": "stream",
     "text": [
      "\n2018-11-30 01:45:00 {'BTCUSDT:binance_LONG': 0, 'BTCUSDT:binance_SHORT': 1}\n"
     ]
    },
    {
     "name": "stdout",
     "output_type": "stream",
     "text": [
      "2018-12-19 09:11:19.144184\tProgress: 100%    \r"
     ]
    },
    {
     "name": "stdout",
     "output_type": "stream",
     "text": [
      "2018-12-19 09:11:19.149215\t数据回放结束\n2018-12-19 09:11:19.150137\t计算按日统计结果\n2018-12-19 09:11:19.186042\t------------------------------\n2018-12-19 09:11:19.186042\t首个交易日：\t2018-06-01 00:00:00\n2018-12-19 09:11:19.187038\t最后交易日：\t2018-12-01 00:00:00\n2018-12-19 09:11:19.187038\t总交易日：\t184\n2018-12-19 09:11:19.187038\t盈利交易日\t88\n2018-12-19 09:11:19.187038\t亏损交易日：\t79\n2018-12-19 09:11:19.187038\t起始资金：\t100000\n2018-12-19 09:11:19.187038\t结束资金：\t105,562.46\n2018-12-19 09:11:19.187038\t总收益率：\t5.56%\n2018-12-19 09:11:19.187038\t年化收益：\t7.26%\n2018-12-19 09:11:19.187038\t总盈亏：\t5,562.46\n2018-12-19 09:11:19.187038\t最大回撤: \t-855.91\n2018-12-19 09:11:19.187038\t百分比最大回撤: -0.84%\n2018-12-19 09:11:19.187038\t总手续费：\t880.89\n2018-12-19 09:11:19.187038\t总滑点：\t0.53\n2018-12-19 09:11:19.187038\t总成交金额：\t1,761,776.58\n2018-12-19 09:11:19.187038\t总成交笔数：\t223\n2018-12-19 09:11:19.187038\t日均盈亏：\t30.23\n2018-12-19 09:11:19.187038\t日均手续费：\t4.79\n2018-12-19 09:11:19.187038\t日均滑点：\t0.0\n2018-12-19 09:11:19.187038\t日均成交金额：\t9,574.87\n2018-12-19 09:11:19.187038\t日均成交笔数：\t1.21\n2018-12-19 09:11:19.187038\t日均收益率：\t0.03%\n2018-12-19 09:11:19.187038\t收益标准差：\t0.16%\n2018-12-19 09:11:19.187038\tSharpe Ratio：\t2.85\n"
     ]
    },
    {
     "data": {
      "image/png": "[encoded data removed]",
      "text/plain": [
       "<matplotlib.figure.Figure at 0x2952abecc18>"
      ]
     },
     "metadata": {},
     "output_type": "display_data"
    },
    {
     "name": "stdout",
     "output_type": "stream",
     "text": [
      "2018-12-19 09:11:22.830343\t计算回测结果\n2018-12-19 09:11:22.852440\t------------------------------\n2018-12-19 09:11:22.852440\t第一笔交易：\t2018-06-06 01:00:00\n2018-12-19 09:11:22.852440\t最后一笔交易：\t2018-12-01 11:58:00\n2018-12-19 09:11:22.852440\t总交易次数：\t112\n2018-12-19 09:11:22.852440\t总盈亏：\t5,560.44\n2018-12-19 09:11:22.852440\t最大回撤: \t-898.73\n2018-12-19 09:11:22.852440\t平均每笔盈利：\t49.65\n2018-12-19 09:11:22.852440\t平均每笔滑点：\t0.0\n2018-12-19 09:11:22.852440\t平均每笔佣金：\t7.88\n2018-12-19 09:11:22.852440\t胜率\t\t50.0%\n2018-12-19 09:11:22.852440\t盈利交易平均值\t183.04\n2018-12-19 09:11:22.852440\t亏损交易平均值\t-83.74\n2018-12-19 09:11:22.852440\t盈亏比：\t2.19\n"
     ]
    },
    {
     "data": {
      "image/png": "[encoded data removed]",
      "text/plain": [
       "<matplotlib.figure.Figure at 0x2952b3bc588>"
      ]
     },
     "metadata": {},
     "output_type": "display_data"
    },
    {
     "name": "stdout",
     "output_type": "stream",
     "text": [
      "2018-12-19 09:11:24.145860\t计算按日统计结果\n"
     ]
    }
   ],
   "source": [
    "MultiFrameMaDf = runBacktesting(MultiFrameMaStrategy, {'symbolList':['BTCUSDT:binance']} , '20180601 12:00', \\\n",
    "                            '20181201 12:00', 0.002, 5/10000)"
   ]
  },
  {
   "cell_type": "code",
   "execution_count": null,
   "metadata": {},
   "outputs": [],
   "source": []
  }
 ],
 "metadata": {
  "kernelspec": {
   "display_name": "Python 3",
   "language": "python",
   "name": "python3"
  },
  "language_info": {
   "codemirror_mode": {
    "name": "ipython",
    "version": 3
   },
   "file_extension": ".py",
   "mimetype": "text/x-python",
   "name": "python",
   "nbconvert_exporter": "python",
   "pygments_lexer": "ipython3",
   "version": "3.6.4"
  }
 },
 "nbformat": 4,
 "nbformat_minor": 2
}
